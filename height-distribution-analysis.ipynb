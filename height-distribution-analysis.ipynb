{
 "cells": [
  {
   "cell_type": "markdown",
   "id": "30e65eb9",
   "metadata": {},
   "source": [
    "# <p style='color:#DAA520;background-color:gray;border-radius:2rem;text-align:center;font-size:3rem;padding:1rem;width:1wh;height:1vh;display:flex;justify-content:center;align-items:center'>library</p>"
   ]
  },
  {
   "cell_type": "code",
   "execution_count": 57,
   "id": "16af8c83",
   "metadata": {},
   "outputs": [],
   "source": [
    "# library\n",
    "import numpy as np\n",
    "import matplotlib.pyplot as plt\n",
    "from scipy.stats import iqr"
   ]
  },
  {
   "cell_type": "markdown",
   "id": "be6251a2",
   "metadata": {},
   "source": [
    "> - <p style='padding:1rem'> <span style='color:yellow'>numpy</span> for our arithmetic work</p>\n",
    "> - <p style='padding:1rem'> <span style='color:yellow'>scipy</span> for calculate the Interquartile Range</p>\n",
    "> - <p style='padding:1rem'> <span style='color:yellow'>matplotlib</span> is for chart</p>"
   ]
  },
  {
   "cell_type": "markdown",
   "id": "c800c22a",
   "metadata": {},
   "source": [
    "# <p style='color:#DAA520;background-color:gray;border-radius:2rem;text-align:center;font-size:3rem;padding:1rem;width:1wh;height:1vh;display:flex;justify-content:center;align-items:center'>Create a random amounts</p>"
   ]
  },
  {
   "cell_type": "code",
   "execution_count": 58,
   "id": "e2888cea",
   "metadata": {},
   "outputs": [],
   "source": [
    "np.random.seed(42)#random results does not change\n",
    "# group A, 100 random numbers in average 175 and standard diviation 5\n",
    "group_A = np.random.normal(loc=175,scale=5,size=100)\n",
    "# group B, 100 random numbers in average 170 and standard diviation 15\n",
    "group_B = np.random.normal(loc=170,scale=15,size=100)\n"
   ]
  },
  {
   "cell_type": "markdown",
   "id": "c23a5b88",
   "metadata": {},
   "source": [
    "> - <p style='padding:1rem'><span style='color:yellow'>loc</span> is for mean</p>\n",
    "> - <p style='padding:1rem'><span style='color:yellow'>scale</span> is for standard deviation</p>\n",
    "> - <p style='padding:1rem'><span style='color:yellow'>size</span> is for the quantities</p>"
   ]
  },
  {
   "cell_type": "code",
   "execution_count": 59,
   "id": "36709570",
   "metadata": {},
   "outputs": [
    {
     "data": {
      "text/plain": [
       "array([177.48357077, 174.30867849, 178.23844269, 182.61514928,\n",
       "       173.82923313, 173.82931522, 182.89606408, 178.83717365,\n",
       "       172.65262807, 177.71280022, 172.68291154, 172.67135123,\n",
       "       176.20981136, 165.43359878, 166.37541084, 172.18856235,\n",
       "       169.9358444 , 176.57123666, 170.45987962, 167.93848149,\n",
       "       182.32824384, 173.8711185 , 175.33764102, 167.87625907,\n",
       "       172.27808638, 175.55461295, 169.24503211, 176.87849009,\n",
       "       171.99680655, 173.54153125, 171.99146694, 184.26139092,\n",
       "       174.93251388, 169.71144536, 179.11272456, 168.89578175,\n",
       "       176.04431798, 165.20164938, 168.35906976, 175.98430618,\n",
       "       178.6923329 , 175.85684141, 174.42175859, 173.49448152,\n",
       "       167.60739005, 171.40077896, 172.69680615, 180.28561113,\n",
       "       176.71809145, 166.18479922, 176.62041985, 173.0745886 ,\n",
       "       171.61539   , 178.05838144, 180.15499761, 179.6564006 ,\n",
       "       170.80391238, 173.45393812, 176.65631716, 179.87772564,\n",
       "       172.60412881, 174.07170512, 169.46832513, 169.01896688,\n",
       "       179.06262911, 181.78120014, 174.63994939, 180.01766449,\n",
       "       176.80818013, 171.77440123, 176.80697803, 182.69018283,\n",
       "       174.8208698 , 182.82321828, 161.90127448, 179.10951252,\n",
       "       175.43523534, 173.50496325, 175.45880388, 165.06215543,\n",
       "       173.90164056, 176.78556286, 182.38947022, 172.40864891,\n",
       "       170.95753199, 172.49121478, 179.57701059, 176.64375555,\n",
       "       172.35119898, 177.56633717, 175.48538775, 179.84322495,\n",
       "       171.48973453, 173.36168927, 173.03945923, 167.68242526,\n",
       "       176.48060139, 176.30527636, 175.02556728, 173.82706433])"
      ]
     },
     "execution_count": 59,
     "metadata": {},
     "output_type": "execute_result"
    }
   ],
   "source": [
    "group_A"
   ]
  },
  {
   "cell_type": "code",
   "execution_count": 60,
   "id": "22994fa0",
   "metadata": {},
   "outputs": [
    {
     "data": {
      "text/plain": [
       "array([148.76943887, 163.69032016, 164.85928225, 157.96584096,\n",
       "       167.58071433, 176.06076285, 198.29278852, 172.61866719,\n",
       "       173.86325586, 168.88331126, 141.21843177, 169.60229187,\n",
       "       170.90345315, 206.94863169, 167.11458553, 174.52321014,\n",
       "       169.47932345, 152.46982944, 187.14234222, 181.27899549,\n",
       "       181.86547921, 156.35918818, 191.04191466, 148.97223406,\n",
       "       178.80285641, 202.85683439, 155.14195512, 161.50553406,\n",
       "       171.49477048, 162.44786519, 146.74004853, 171.02844462,\n",
       "       154.06544429, 177.10388646, 156.20863649, 193.24901608,\n",
       "       158.25120061, 165.16907726, 182.20275826, 151.53703525,\n",
       "       173.41189902, 189.60714131, 145.88775148, 172.76950788,\n",
       "       173.89824191, 181.72734308, 151.44573934, 150.1931508 ,\n",
       "       177.82912348, 174.4547701 , 173.75739276, 175.19672314,\n",
       "       159.79962918, 173.48380546, 174.3960871 , 159.28472873,\n",
       "       197.98661767, 177.10749381, 152.13044754, 179.84830413,\n",
       "       155.37977495, 181.80626906, 187.37893369, 157.68976522,\n",
       "       184.45064194, 176.1917139 , 182.3309024 , 198.45189474,\n",
       "       166.31917826, 158.69395753, 156.65728356, 157.76284573,\n",
       "       168.84347436, 175.11727962, 174.15036199, 182.40774874,\n",
       "       170.19502838, 191.80301116, 166.0301475 , 210.8025375 ,\n",
       "       179.38501022, 157.14263665, 153.93661253, 177.23708623,\n",
       "       166.64805822, 180.71000741, 177.09856437, 168.90756631,\n",
       "       157.29809423, 147.27729163, 163.30227572, 182.84598191,\n",
       "       173.21140616, 151.31391832, 172.59771389, 175.7797607 ,\n",
       "       156.74213846, 172.30587659, 170.87313078, 152.85544553])"
      ]
     },
     "execution_count": 60,
     "metadata": {},
     "output_type": "execute_result"
    }
   ],
   "source": [
    "group_B"
   ]
  },
  {
   "cell_type": "code",
   "execution_count": 61,
   "id": "dcd6a717",
   "metadata": {},
   "outputs": [
    {
     "data": {
      "text/plain": [
       "1"
      ]
     },
     "execution_count": 61,
     "metadata": {},
     "output_type": "execute_result"
    }
   ],
   "source": [
    "group_A.ndim"
   ]
  },
  {
   "cell_type": "code",
   "execution_count": 62,
   "id": "15888412",
   "metadata": {},
   "outputs": [
    {
     "data": {
      "text/plain": [
       "(100,)"
      ]
     },
     "execution_count": 62,
     "metadata": {},
     "output_type": "execute_result"
    }
   ],
   "source": [
    "group_A.shape"
   ]
  },
  {
   "cell_type": "code",
   "execution_count": 63,
   "id": "9a533541",
   "metadata": {},
   "outputs": [
    {
     "data": {
      "text/plain": [
       "100"
      ]
     },
     "execution_count": 63,
     "metadata": {},
     "output_type": "execute_result"
    }
   ],
   "source": [
    "group_A.size"
   ]
  },
  {
   "cell_type": "code",
   "execution_count": 64,
   "id": "c1eef68f",
   "metadata": {},
   "outputs": [
    {
     "data": {
      "text/plain": [
       "1"
      ]
     },
     "execution_count": 64,
     "metadata": {},
     "output_type": "execute_result"
    }
   ],
   "source": [
    "group_B.ndim"
   ]
  },
  {
   "cell_type": "code",
   "execution_count": 65,
   "id": "306d809c",
   "metadata": {},
   "outputs": [
    {
     "data": {
      "text/plain": [
       "(100,)"
      ]
     },
     "execution_count": 65,
     "metadata": {},
     "output_type": "execute_result"
    }
   ],
   "source": [
    "group_B.shape"
   ]
  },
  {
   "cell_type": "code",
   "execution_count": 66,
   "id": "d6ebb303",
   "metadata": {},
   "outputs": [
    {
     "data": {
      "text/plain": [
       "100"
      ]
     },
     "execution_count": 66,
     "metadata": {},
     "output_type": "execute_result"
    }
   ],
   "source": [
    "group_B.size"
   ]
  },
  {
   "cell_type": "markdown",
   "id": "47f68142",
   "metadata": {},
   "source": [
    "# <p style='color:#DAA520;background-color:gray;border-radius:2rem;text-align:center;font-size:3rem;padding:1rem;width:1wh;height:1vh;display:flex;justify-content:center;align-items:center'>calculate Standard Deviation</p>"
   ]
  },
  {
   "cell_type": "markdown",
   "id": "5e69a618",
   "metadata": {},
   "source": [
    "Mean formula:\n",
    "$$\n",
    "\\text{Mean} = \\bar{x} = \\frac{1}{n} \\sum_{i=1}^{n} x_i\n",
    "$$\n"
   ]
  },
  {
   "cell_type": "markdown",
   "id": "746c7511",
   "metadata": {},
   "source": [
    "Standard Deviation formula:\n",
    "$$\n",
    "s = \\sqrt{ \\frac{1}{n - 1} \\sum_{i=1}^{n} (x_i - \\bar{x})^2 }\n",
    "$$\n",
    "\n"
   ]
  },
  {
   "cell_type": "markdown",
   "id": "adce76fe",
   "metadata": {},
   "source": [
    "**Mean:** x̄ = (x₁ + x₂ + ... + xₙ) / n\n",
    "\n",
    "**Sample Standard Deviation:** s = sqrt( [(x₁ - x̄)² + (x₂ - x̄)² + ... + (xₙ - x̄)²] / (n - 1) )\n",
    "\n",
    "**Population Standard Deviation:** σ = sqrt( [(x₁ - x̄)² + (x₂ - x̄)² + ... + (xₙ - x̄)²] / n )\n"
   ]
  },
  {
   "cell_type": "markdown",
   "id": "dee5020a",
   "metadata": {},
   "source": [
    "<p style='color:green;padding:1rem;background-color:black'>For Group A</p>"
   ]
  },
  {
   "cell_type": "code",
   "execution_count": 67,
   "id": "f0c2f90c",
   "metadata": {},
   "outputs": [],
   "source": [
    "mean_A = np.mean(group_A)#average\n",
    "std_A = np.std(group_A)#standard Deviation"
   ]
  },
  {
   "cell_type": "markdown",
   "id": "22e25c21",
   "metadata": {},
   "source": [
    "<p style='color:green;padding:1rem;background-color:black'>For Group B</p>"
   ]
  },
  {
   "cell_type": "code",
   "execution_count": 68,
   "id": "35e8a849",
   "metadata": {},
   "outputs": [],
   "source": [
    "mean_B = np.mean(group_B)\n",
    "std_B = np.std(group_B)"
   ]
  },
  {
   "cell_type": "markdown",
   "id": "50a4f8ec",
   "metadata": {},
   "source": [
    "<p style='color:green;padding:1rem;background-color:black'>Group A mean and standard deviation result</p>"
   ]
  },
  {
   "cell_type": "code",
   "execution_count": 69,
   "id": "6ab35776",
   "metadata": {},
   "outputs": [
    {
     "name": "stdout",
     "output_type": "stream",
     "text": [
      "Group A mean: 174.48076741302953\n",
      "Group A std: 4.518080883223148\n"
     ]
    }
   ],
   "source": [
    "print(f'Group A mean: {mean_A}')\n",
    "print(f'Group A std: {std_A}')"
   ]
  },
  {
   "cell_type": "markdown",
   "id": "a22f02c3",
   "metadata": {},
   "source": [
    "<p style='color:green;padding:1rem;background-color:black'>Group B mean and standard deviation result</p>"
   ]
  },
  {
   "cell_type": "code",
   "execution_count": 70,
   "id": "82c0b487",
   "metadata": {},
   "outputs": [
    {
     "name": "stdout",
     "output_type": "stream",
     "text": [
      "Group B mean: 170.33456880574886\n",
      "Group B std: 14.233329607659691\n"
     ]
    }
   ],
   "source": [
    "print(f'Group B mean: {mean_B}')\n",
    "print(f'Group B std: {std_B}')"
   ]
  },
  {
   "cell_type": "markdown",
   "id": "b8889f3c",
   "metadata": {},
   "source": [
    "<p style='color:green;padding:1rem;background-color:black'>Both group mean and std</p>"
   ]
  },
  {
   "cell_type": "code",
   "execution_count": 71,
   "id": "ea87837a",
   "metadata": {},
   "outputs": [
    {
     "name": "stdout",
     "output_type": "stream",
     "text": [
      "Group_A --->\n",
      " \t Mean: 174.48\n",
      " \t Standard Deviation: 4.52\n",
      "Group_B ---> \n",
      " \t Mean: 170.33 \n",
      " \t Standard Deviation: 14.23\n"
     ]
    }
   ],
   "source": [
    "print(f\"Group_A --->\\n \\t Mean: {mean_A:.2f}\\n \\t Standard Deviation: {std_A:.2f}\")\n",
    "print(f\"Group_B ---> \\n \\t Mean: {mean_B:.2f} \\n \\t Standard Deviation: {std_B:.2f}\")\n"
   ]
  },
  {
   "cell_type": "markdown",
   "id": "c4e0c5a4",
   "metadata": {},
   "source": [
    "# <p style='color:#DAA520;background-color:gray;border-radius:2rem;text-align:center;font-size:3rem;padding:1rem;width:1wh;height:1vh;display:flex;justify-content:center;align-items:center'>Variance</p>"
   ]
  },
  {
   "cell_type": "markdown",
   "id": "fdce6ee2",
   "metadata": {},
   "source": [
    "<p style='color:green;padding:1rem;background-color:black'>Group A variance</p>"
   ]
  },
  {
   "cell_type": "code",
   "execution_count": 72,
   "id": "22799f59",
   "metadata": {},
   "outputs": [
    {
     "data": {
      "text/plain": [
       "np.float64(20.413054867346467)"
      ]
     },
     "execution_count": 72,
     "metadata": {},
     "output_type": "execute_result"
    }
   ],
   "source": [
    "var_group_A = np.var(group_A)\n",
    "var_group_A"
   ]
  },
  {
   "cell_type": "markdown",
   "id": "f972eea5",
   "metadata": {},
   "source": [
    "<p style='color:green;padding:1rem;background-color:black'>Group B variance</p>"
   ]
  },
  {
   "cell_type": "code",
   "execution_count": 73,
   "id": "f95a02ef",
   "metadata": {},
   "outputs": [
    {
     "data": {
      "text/plain": [
       "np.float64(202.58767172028197)"
      ]
     },
     "execution_count": 73,
     "metadata": {},
     "output_type": "execute_result"
    }
   ],
   "source": [
    "var_group_B = np.var(group_B)\n",
    "var_group_B"
   ]
  },
  {
   "cell_type": "markdown",
   "id": "dbc2a178",
   "metadata": {},
   "source": [
    "<p style='color:green;padding:1rem;background-color:black'>Both group variance</p>"
   ]
  },
  {
   "cell_type": "code",
   "execution_count": 74,
   "id": "1f2c72e7",
   "metadata": {},
   "outputs": [
    {
     "name": "stdout",
     "output_type": "stream",
     "text": [
      "Group_A --->\n",
      " \t variance: 20.413054867346467\n",
      "Group_B --->\n",
      " \t variance: 202.58767172028197\n"
     ]
    }
   ],
   "source": [
    "print(f\"Group_A --->\\n \\t variance: {var_group_A}\")\n",
    "print(f\"Group_B --->\\n \\t variance: {var_group_B}\")\n"
   ]
  },
  {
   "cell_type": "markdown",
   "id": "ec39226f",
   "metadata": {},
   "source": [
    "# <p style='color:#DAA520;background-color:gray;border-radius:2rem;text-align:center;font-size:3rem;padding:1rem;width:1wh;height:1vh;display:flex;justify-content:center;align-items:center'>Range</p>"
   ]
  },
  {
   "cell_type": "markdown",
   "id": "63e331f0",
   "metadata": {},
   "source": [
    "<p style='color:green;padding:1rem;background-color:black'>Group A range</p>"
   ]
  },
  {
   "cell_type": "code",
   "execution_count": 97,
   "id": "9088713d",
   "metadata": {},
   "outputs": [
    {
     "data": {
      "text/plain": [
       "np.float64(22.360116442993387)"
      ]
     },
     "execution_count": 97,
     "metadata": {},
     "output_type": "execute_result"
    }
   ],
   "source": [
    "group_A_range = np.ptp(group_A)\n",
    "group_A_range"
   ]
  },
  {
   "cell_type": "markdown",
   "id": "c33e5464",
   "metadata": {},
   "source": [
    "<p style='color:green;padding:1rem;background-color:black'>Group B range</p>"
   ]
  },
  {
   "cell_type": "code",
   "execution_count": 98,
   "id": "e94841df",
   "metadata": {},
   "outputs": [
    {
     "data": {
      "text/plain": [
       "np.float64(69.58410572832992)"
      ]
     },
     "execution_count": 98,
     "metadata": {},
     "output_type": "execute_result"
    }
   ],
   "source": [
    "group_B_range = np.ptp(group_B)\n",
    "group_B_range"
   ]
  },
  {
   "cell_type": "markdown",
   "id": "69ea66ab",
   "metadata": {},
   "source": [
    "<p style='color:green;padding:1rem;background-color:black'>Both group range</p>"
   ]
  },
  {
   "cell_type": "code",
   "execution_count": 99,
   "id": "dd485047",
   "metadata": {},
   "outputs": [
    {
     "name": "stdout",
     "output_type": "stream",
     "text": [
      "Group_A --->\n",
      " \t range: 22.360116442993387\n",
      "Group_B --->\n",
      " \t range: 69.58410572832992\n"
     ]
    }
   ],
   "source": [
    "print(f\"Group_A --->\\n \\t range: {group_A_range}\")\n",
    "print(f\"Group_B --->\\n \\t range: {group_B_range}\")\n"
   ]
  },
  {
   "cell_type": "markdown",
   "id": "c561c871",
   "metadata": {},
   "source": [
    "# <p style='color:#DAA520;background-color:gray;border-radius:2rem;text-align:center;font-size:3rem;padding:1rem;width:1wh;height:1vh;display:flex;justify-content:center;align-items:center'>Interquartile Range</p>"
   ]
  },
  {
   "cell_type": "markdown",
   "id": "58b327fd",
   "metadata": {},
   "source": [
    "<p style='color:green;padding:1rem;background-color:black'>Group A Interquartile Range</p>"
   ]
  },
  {
   "cell_type": "code",
   "execution_count": 100,
   "id": "36a48cae",
   "metadata": {},
   "outputs": [
    {
     "data": {
      "text/plain": [
       "np.float64(5.034288612542554)"
      ]
     },
     "execution_count": 100,
     "metadata": {},
     "output_type": "execute_result"
    }
   ],
   "source": [
    "group_A_interquartile_range = iqr(group_A)\n",
    "group_A_interquartile_range"
   ]
  },
  {
   "cell_type": "markdown",
   "id": "4bc1001f",
   "metadata": {},
   "source": [
    "<p style='color:green;padding:1rem;background-color:black'>Group B Interquartile Range</p>"
   ]
  },
  {
   "cell_type": "code",
   "execution_count": 101,
   "id": "b2aff597",
   "metadata": {},
   "outputs": [
    {
     "data": {
      "text/plain": [
       "np.float64(20.15746456230474)"
      ]
     },
     "execution_count": 101,
     "metadata": {},
     "output_type": "execute_result"
    }
   ],
   "source": [
    "group_B_interquartile_range = iqr(group_B)\n",
    "group_B_interquartile_range"
   ]
  },
  {
   "cell_type": "markdown",
   "id": "33a2e566",
   "metadata": {},
   "source": [
    "<p style='color:green;padding:1rem;background-color:black'>Both Group Interquartile Range</p>"
   ]
  },
  {
   "cell_type": "code",
   "execution_count": 102,
   "id": "9ff65e46",
   "metadata": {},
   "outputs": [
    {
     "name": "stdout",
     "output_type": "stream",
     "text": [
      "Group_A --->\n",
      " \t Interquartile Range: 5.034288612542554\n",
      "Group_B --->\n",
      " \t Interquartile Range: 20.15746456230474\n"
     ]
    }
   ],
   "source": [
    "print(f\"Group_A --->\\n \\t Interquartile Range: {group_A_interquartile_range}\")\n",
    "print(f\"Group_B --->\\n \\t Interquartile Range: {group_B_interquartile_range}\")\n"
   ]
  },
  {
   "cell_type": "markdown",
   "id": "797ec5c7",
   "metadata": {},
   "source": [
    "<p style='color:#DAA520;background-color:gray;border-radius:2rem;text-align:center;font-size:3rem;padding:1rem;width:1wh;height:1vh;display:flex;justify-content:center;align-items:center'> Coefficient of Variation</p>"
   ]
  },
  {
   "cell_type": "markdown",
   "id": "6ae3dbd5",
   "metadata": {},
   "source": [
    "<p style='color:green;padding:1rem;background-color:black'>Group A Coefficient of Variation</p>"
   ]
  },
  {
   "cell_type": "code",
   "execution_count": 103,
   "id": "9d721665",
   "metadata": {},
   "outputs": [
    {
     "data": {
      "text/plain": [
       "np.float64(0.00025894434958140586)"
      ]
     },
     "execution_count": 103,
     "metadata": {},
     "output_type": "execute_result"
    }
   ],
   "source": [
    "cv_A = (std_A/mean_A)* 0.01\n",
    "cv_A"
   ]
  },
  {
   "cell_type": "markdown",
   "id": "7fb041ba",
   "metadata": {},
   "source": [
    "<p style='color:green;padding:1rem;background-color:black'>Group B Coefficient of Variation</p>"
   ]
  },
  {
   "cell_type": "code",
   "execution_count": 104,
   "id": "ffec1da3",
   "metadata": {},
   "outputs": [
    {
     "data": {
      "text/plain": [
       "np.float64(0.0008356101587277632)"
      ]
     },
     "execution_count": 104,
     "metadata": {},
     "output_type": "execute_result"
    }
   ],
   "source": [
    "cv_B = (std_B/mean_B)* 0.01\n",
    "cv_B"
   ]
  },
  {
   "cell_type": "markdown",
   "id": "1dedbf0e",
   "metadata": {},
   "source": [
    "<p style='color:green;padding:1rem;background-color:black'>Both Group Coefficient of variation</p>"
   ]
  },
  {
   "cell_type": "code",
   "execution_count": 105,
   "id": "8ec5b70a",
   "metadata": {},
   "outputs": [
    {
     "name": "stdout",
     "output_type": "stream",
     "text": [
      "Group_A --->\n",
      " \t Coefficient of Variation: 0.00025894434958140586\n",
      "Group_B --->\n",
      " \t Coefficient of Variation: 0.0008356101587277632\n"
     ]
    }
   ],
   "source": [
    "print(f\"Group_A --->\\n \\t Coefficient of Variation: {cv_A}\")\n",
    "print(f\"Group_B --->\\n \\t Coefficient of Variation: {cv_B}\")\n"
   ]
  },
  {
   "cell_type": "markdown",
   "id": "0c8b7759",
   "metadata": {},
   "source": [
    "# <p style='color:#DAA520;background-color:gray;border-radius:2rem;text-align:center;font-size:3rem;padding:1rem;width:1wh;height:1vh;display:flex;justify-content:center;align-items:center'>Showing the final result</p>"
   ]
  },
  {
   "cell_type": "code",
   "execution_count": 106,
   "id": "2a95a95d",
   "metadata": {},
   "outputs": [
    {
     "name": "stdout",
     "output_type": "stream",
     "text": [
      "Group_A --->\n",
      " \t Mean: 174.48\n",
      " \t Standard Deviation: 4.52 \n",
      " \t variance: 20.413054867346467 \n",
      " \t Range: 22.360116442993387 \n",
      " \t Interquartile Range: 5.034288612542554 \n",
      " \t Coefficient of Variation: 0.00025894434958140586\n",
      "Group_B ---> \n",
      " \t Mean: 170.33 \n",
      " \t Standard Deviation: 14.23 \n",
      " \t variance: 202.58767172028197 \n",
      " \t Range: 69.58410572832992 \n",
      " \t Interquartile Range: 20.15746456230474 \n",
      " \t Coefficient of Variation: 0.0008356101587277632\n"
     ]
    }
   ],
   "source": [
    "print(f\"Group_A --->\\n \\t Mean: {mean_A:.2f}\\n \\t Standard Deviation: {std_A:.2f} \\n \\t variance: {var_group_A} \\n \\t Range: {group_A_range} \\n \\t Interquartile Range: {group_A_interquartile_range} \\n \\t Coefficient of Variation: {cv_A}\")\n",
    "print(f\"Group_B ---> \\n \\t Mean: {mean_B:.2f} \\n \\t Standard Deviation: {std_B:.2f} \\n \\t variance: {var_group_B} \\n \\t Range: {group_B_range} \\n \\t Interquartile Range: {group_B_interquartile_range} \\n \\t Coefficient of Variation: {cv_B}\")\n"
   ]
  },
  {
   "cell_type": "markdown",
   "id": "7524e33d",
   "metadata": {},
   "source": [
    "<p style='color:green;padding:1rem;background-color:black'>Interpretation</p>"
   ]
  },
  {
   "cell_type": "markdown",
   "id": "51eae40a",
   "metadata": {},
   "source": [
    "> Standard Deviation B>A\n",
    ">> Standard Deviation Group B is more than Group A\n",
    "\n",
    "> Variance B>A\n",
    ">> Variance Group B is more than Group A\n",
    "\n",
    "\n",
    "\n",
    "> Range B>A\n",
    ">> Range Group B is more than Group A\n",
    "\n",
    "> Interquartile Range B>A\n",
    ">> Interquartile Range Group B is more than Group A\n",
    "\n",
    "> Coefficient of Variation B>A\n",
    ">> Coefficient of Variation Group B is more than Group A\n",
    "\n",
    "> Based on multiple statistical dispersion measures such as standard deviation, variance, \n",
    "range, interquartile range, and coefficient of variation, Group B clearly has greater dispersion than Group A. \n",
    "This means the height values in Group B are more widely spread.\n",
    "\n"
   ]
  },
  {
   "cell_type": "code",
   "execution_count": 117,
   "id": "dafcff17",
   "metadata": {},
   "outputs": [
    {
     "name": "stdout",
     "output_type": "stream",
     "text": [
      "True\n"
     ]
    }
   ],
   "source": [
    "print(group_B_range > group_A_range)"
   ]
  },
  {
   "cell_type": "markdown",
   "id": "1935b80e",
   "metadata": {},
   "source": [
    "> all in all by comparing the range of \"group A\" which is 22.360116442993387 and \"group B\" which is 69.58410572832992 we can easily understand that \"group B\" dispersion is more than other group."
   ]
  },
  {
   "cell_type": "markdown",
   "id": "33a67ec7",
   "metadata": {},
   "source": [
    "# <p style='color:#DAA520;background-color:gray;border-radius:2rem;text-align:center;font-size:3rem;padding:1rem;width:1wh;height:1vh;display:flex;justify-content:center;align-items:center'>chart</p>"
   ]
  },
  {
   "cell_type": "code",
   "execution_count": 119,
   "id": "be582f00",
   "metadata": {},
   "outputs": [
    {
     "name": "stderr",
     "output_type": "stream",
     "text": [
      "C:\\Users\\Mr.Ghost\\AppData\\Local\\Temp\\ipykernel_1588\\593818508.py:2: MatplotlibDeprecationWarning: The 'labels' parameter of boxplot() has been renamed 'tick_labels' since Matplotlib 3.9; support for the old name will be dropped in 3.11.\n",
      "  plt.boxplot([group_A, group_B], labels=['Group A', 'Group B'])\n"
     ]
    },
    {
     "data": {
      "image/png": "[encoded data removed]",
      "text/plain": [
       "<Figure size 800x600 with 1 Axes>"
      ]
     },
     "metadata": {},
     "output_type": "display_data"
    }
   ],
   "source": [
    "plt.figure(figsize=(8, 6))\n",
    "plt.boxplot([group_A, group_B], labels=['Group A', 'Group B'])\n",
    "plt.title('Height Distribution Comparison')\n",
    "plt.ylabel('Height (cm)')\n",
    "plt.grid(True)\n",
    "plt.show()\n"
   ]
  },
  {
   "cell_type": "markdown",
   "id": "d2912c05",
   "metadata": {},
   "source": [
    "<pre style='background-color:black;padding:1rem'>\n",
    "\n",
    "Y label: height of the people\n",
    "\n",
    "Group_A --->\n",
    " \t Mean: 174.48\n",
    " \t Standard Deviation: 4.52 \n",
    "Group_B ---> \n",
    " \t Mean: 170.33 \n",
    " \t Standard Deviation: 14.23 \n",
    "\n",
    "</pre>\n",
    "\n",
    "<pre style='background-color:black;padding:1rem'>\n",
    "\n",
    "Group A has less variability, \n",
    "as the box and whiskers are \n",
    "compact and centered around the mean.\n",
    "</pre>\n",
    "\n",
    "<pre style='background-color:black;padding:1rem'>\n",
    "Group B shows higher variability, \n",
    "with a wider spread and more outliers \n",
    "on both ends.\n",
    "</pre>"
   ]
  },
  {
   "cell_type": "code",
   "execution_count": 109,
   "id": "67f406a0",
   "metadata": {},
   "outputs": [
    {
     "name": "stderr",
     "output_type": "stream",
     "text": [
      "C:\\Users\\Mr.Ghost\\AppData\\Local\\Temp\\ipykernel_1588\\1494500919.py:4: MatplotlibDeprecationWarning: The 'labels' parameter of boxplot() has been renamed 'tick_labels' since Matplotlib 3.9; support for the old name will be dropped in 3.11.\n",
      "  plt.boxplot([x, y], labels=['Group A', 'Group B'])\n"
     ]
    },
    {
     "data": {
      "image/png": "[encoded data removed]",
      "text/plain": [
       "<Figure size 800x600 with 1 Axes>"
      ]
     },
     "metadata": {},
     "output_type": "display_data"
    }
   ],
   "source": [
    "x = [std_A,var_group_A,group_A_interquartile_range,group_A_range,cv_A]\n",
    "y = [std_B,var_group_B,group_B_interquartile_range,group_B_range,cv_B]\n",
    "plt.figure(figsize=(8, 6))\n",
    "plt.boxplot([x, y], labels=['Group A', 'Group B'])\n",
    "plt.title('Height Distribution Comparison')\n",
    "plt.ylabel('Height (cm)')\n",
    "plt.grid(True)\n",
    "plt.show()\n"
   ]
  },
  {
   "cell_type": "code",
   "execution_count": 110,
   "id": "fab88cfb",
   "metadata": {},
   "outputs": [
    {
     "data": {
      "image/png": "[encoded data removed]",
      "text/plain": [
       "<Figure size 640x480 with 1 Axes>"
      ]
     },
     "metadata": {},
     "output_type": "display_data"
    }
   ],
   "source": [
    "plt.title('Standard Deviation')\n",
    "plt.bar(x=['Group A','Group B'],height=[std_A,std_B])\n",
    "plt.show()"
   ]
  },
  {
   "cell_type": "code",
   "execution_count": 111,
   "id": "1a568021",
   "metadata": {},
   "outputs": [
    {
     "data": {
      "image/png": "[encoded data removed]",
      "text/plain": [
       "<Figure size 640x480 with 1 Axes>"
      ]
     },
     "metadata": {},
     "output_type": "display_data"
    }
   ],
   "source": [
    "plt.title('variance')\n",
    "plt.bar(x=['Group A','Group B'],height=[var_group_A,var_group_B])\n",
    "plt.show()"
   ]
  },
  {
   "cell_type": "code",
   "execution_count": 112,
   "id": "6cb90443",
   "metadata": {},
   "outputs": [
    {
     "data": {
      "image/png": "[encoded data removed]",
      "text/plain": [
       "<Figure size 640x480 with 1 Axes>"
      ]
     },
     "metadata": {},
     "output_type": "display_data"
    }
   ],
   "source": [
    "plt.title('range')\n",
    "plt.bar(x=['Group A','Group B'],height=[group_A_range,group_B_range])\n",
    "plt.show()"
   ]
  },
  {
   "cell_type": "code",
   "execution_count": 113,
   "id": "aa309d43",
   "metadata": {},
   "outputs": [
    {
     "data": {
      "image/png": "[encoded data removed]",
      "text/plain": [
       "<Figure size 640x480 with 1 Axes>"
      ]
     },
     "metadata": {},
     "output_type": "display_data"
    }
   ],
   "source": [
    "plt.title('interquartile range')\n",
    "plt.bar(x=['Group A','Group B'],height=[group_A_interquartile_range,group_B_interquartile_range])\n",
    "plt.show()"
   ]
  },
  {
   "cell_type": "code",
   "execution_count": 114,
   "id": "82b2b642",
   "metadata": {},
   "outputs": [
    {
     "data": {
      "image/png": "[encoded data removed]",
      "text/plain": [
       "<Figure size 640x480 with 1 Axes>"
      ]
     },
     "metadata": {},
     "output_type": "display_data"
    }
   ],
   "source": [
    "plt.title('Coefficient of Variation')\n",
    "plt.bar(x=['Group A','Group B'],height=[cv_A,cv_B])\n",
    "plt.show()"
   ]
  },
  {
   "cell_type": "markdown",
   "id": "e386a4e6",
   "metadata": {},
   "source": [
    "<p style='color:green;padding:1rem;background-color:black'>Interpretation</p>"
   ]
  },
  {
   "cell_type": "markdown",
   "id": "b9d6909a",
   "metadata": {},
   "source": [
    "<p style='background-color:black;padding:1rem'>\n",
    "By looking at chart it is obvious that which group dispersion \n",
    "is higher, in this script we found out the dispersion of Group B is higher, even in the charts especially box chart group B is higher.\n",
    "</p>\n"
   ]
  },
  {
   "cell_type": "markdown",
   "id": "3a220d52",
   "metadata": {},
   "source": []
  }
 ],
 "metadata": {
  "kernelspec": {
   "display_name": "venv",
   "language": "python",
   "name": "python3"
  },
  "language_info": {
   "codemirror_mode": {
    "name": "ipython",
    "version": 3
   },
   "file_extension": ".py",
   "mimetype": "text/x-python",
   "name": "python",
   "nbconvert_exporter": "python",
   "pygments_lexer": "ipython3",
   "version": "3.12.5"
  }
 },
 "nbformat": 4,
 "nbformat_minor": 5
}
